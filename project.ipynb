{
 "cells": [
  {
   "cell_type": "code",
   "execution_count": null,
   "id": "initial_id",
   "metadata": {
    "collapsed": true
   },
   "outputs": [],
   "source": []
  },
  {
   "cell_type": "markdown",
   "source": [
    "Table of Contents\n",
    "Introduction\n",
    "Research Question\n",
    "Quantitative Question\n",
    "Experimental Design\n",
    "Data Gathering\n",
    "Exploratory Data Analysis\n",
    "Checking Assumptions\n",
    "Testing Hypothesis\n",
    "Limitations\n",
    "Reflections\n",
    "Conclusion"
   ],
   "metadata": {
    "collapsed": false
   },
   "id": "5245dc559f94271c"
  }
 ],
 "metadata": {
  "kernelspec": {
   "display_name": "Python 3",
   "language": "python",
   "name": "python3"
  },
  "language_info": {
   "codemirror_mode": {
    "name": "ipython",
    "version": 2
   },
   "file_extension": ".py",
   "mimetype": "text/x-python",
   "name": "python",
   "nbconvert_exporter": "python",
   "pygments_lexer": "ipython2",
   "version": "2.7.6"
  }
 },
 "nbformat": 4,
 "nbformat_minor": 5
}
