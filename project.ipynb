{
 "cells": [
  {
   "cell_type": "code",
   "execution_count": null,
   "id": "initial_id",
   "metadata": {
    "collapsed": true,
    "is_executing": true
   },
   "outputs": [],
   "source": [
    "import pandas as pd\n",
    "import numpy as np\n",
    "import matplotlib.pyplot as plt\n",
    "import scipy.interpolate as interp\n",
    "import scipy.stats as stats"
   ]
  },
  {
   "cell_type": "markdown",
   "source": [
    "Table of Contents\n",
    "[Introduction](#Introduction)\n",
    "Research Question\n",
    "Quantitative Question\n",
    "Experimental Design\n",
    "[Data Gathering](#Data-+-Gathering)\n",
    "Exploratory Data Analysis\n",
    "Checking Assumptions\n",
    "Testing Hypothesis\n",
    "Limitations\n",
    "Reflections\n",
    "Conclusion"
   ],
   "metadata": {
    "collapsed": false
   },
   "id": "5245dc559f94271c"
  },
  {
   "cell_type": "markdown",
   "source": [
    "Introduction"
   ],
   "metadata": {
    "collapsed": false
   },
   "id": "e055d4b3d1b8cbf4"
  },
  {
   "cell_type": "markdown",
   "source": [
    "# Research Question\n",
    "Null Hypothesis: \"Mean Rating of Dark Mode and mean Rating of Light Mode of the same website are the same.\"\n",
    "Alternative Hypothesis: \"Mean Rating of Dark Mode and mean Rating of Light Mode of the same website are not the same.\"\n",
    "\n",
    "$$H_{0} : \\(\\mu\\)_{dark} = \\(\\mu\\)_{light}$$\n",
    "$$H_{a} : \\(\\mu\\)_{dark} \\neq \\(\\mu\\)_{light}$$\n",
    "\n",
    "Null Hypothesis: \"Mean Engagement Time of Dark Mode and mean Engagement Time of Light Mode of the same website are the same.\"\n",
    "Alternative Hypothesis: \"Mean Engagement Time of Dark Mode and mean Engagement Time of Light Mode of the same website are not the same.\"\n",
    "\n",
    "$$H_{0} : \\(\\mu\\)_{dark} = \\(\\mu\\)_{light}$$\n",
    "$$H_{a} : \\(\\mu\\)_{dark} \\neq \\(\\mu\\)_{light}$$\n"
   ],
   "metadata": {
    "collapsed": false
   },
   "id": "3463edb18d11e964"
  },
  {
   "cell_type": "markdown",
   "source": [
    "# Quantitative Question"
   ],
   "metadata": {
    "collapsed": false
   },
   "id": "7bc017e4dc7048ef"
  },
  {
   "cell_type": "markdown",
   "source": [
    "# Experimental Design\n",
    "We are doing independent samples t-test\n",
    "t tests, we do not know the popoulation variance, but the sample size is larger than 30\n",
    "test if the data is normaly distributed?? for ratings Levene;s test [Youtube Video Guide](https://youtu.be/VekJxtk4BYM?t=293)\n",
    "[How to calculate t value](https://youtu.be/VekJxtk4BYM?t=491)\n",
    "\n",
    "calculate t score\n",
    "calculate p-value\n",
    "compare it to significance level\n",
    "\n"
   ],
   "metadata": {
    "collapsed": false
   },
   "id": "c5fa3b108a787a5f"
  },
  {
   "cell_type": "markdown",
   "source": [],
   "metadata": {
    "collapsed": false
   },
   "id": "4ce720989bd3d44d"
  },
  {
   "cell_type": "markdown",
   "source": [
    "# Data Gathering"
   ],
   "metadata": {
    "collapsed": false
   },
   "id": "9bfe38ac84fb8b75"
  },
  {
   "cell_type": "markdown",
   "source": [
    "# Limitations\n",
    "Questionare participants Mostly ICT students (20-25), male, some Physio student\n",
    "Only 80 participants"
   ],
   "metadata": {
    "collapsed": false
   },
   "id": "c9fceac8b9a8490"
  },
  {
   "cell_type": "code",
   "execution_count": null,
   "outputs": [],
   "source": [
    "dark_data_dict = {\n",
    "  \"Theme\": {\n",
    "    \"0\": \"Dark\",\n",
    "    \"1\": \"Dark\",\n",
    "    \"2\": \"Dark\",\n",
    "    \"3\": \"Dark\",\n",
    "    \"4\": \"Dark\",\n",
    "    \"5\": \"Dark\",\n",
    "    \"6\": \"Dark\",\n",
    "    \"7\": \"Dark\",\n",
    "    \"8\": \"Dark\",\n",
    "    \"9\": \"Dark\",\n",
    "    \"10\": \"Dark\",\n",
    "    \"11\": \"Dark\",\n",
    "    \"12\": \"Dark\",\n",
    "    \"13\": \"Dark\",\n",
    "    \"14\": \"Dark\",\n",
    "    \"15\": \"Dark\",\n",
    "    \"16\": \"Dark\",\n",
    "    \"17\": \"Dark\",\n",
    "    \"18\": \"Dark\",\n",
    "    \"19\": \"Dark\",\n",
    "    \"20\": \"Dark\",\n",
    "    \"21\": \"Dark\",\n",
    "    \"22\": \"Dark\",\n",
    "    \"23\": \"Dark\",\n",
    "    \"24\": \"Dark\",\n",
    "    \"25\": \"Dark\",\n",
    "    \"26\": \"Dark\",\n",
    "    \"27\": \"Dark\",\n",
    "    \"28\": \"Dark\",\n",
    "    \"29\": \"Dark\",\n",
    "    \"30\": \"Dark\",\n",
    "    \"31\": \"Dark\",\n",
    "    \"32\": \"Dark\",\n",
    "    \"33\": \"Dark\",\n",
    "    \"34\": \"Dark\",\n",
    "    \"35\": \"Dark\",\n",
    "    \"36\": \"Dark\",\n",
    "    \"37\": \"Dark\",\n",
    "    \"38\": \"Dark\",\n",
    "    \"39\": \"Dark\"\n",
    "  },\n",
    "  \"Rating\": {\n",
    "    \"0\": 7,\n",
    "    \"1\": 4,\n",
    "    \"2\": 8,\n",
    "    \"3\": 5,\n",
    "    \"4\": 7,\n",
    "    \"5\": 10,\n",
    "    \"6\": 3,\n",
    "    \"7\": 7,\n",
    "    \"8\": 8,\n",
    "    \"9\": 5,\n",
    "    \"10\": 4,\n",
    "    \"11\": 8,\n",
    "    \"12\": 8,\n",
    "    \"13\": 3,\n",
    "    \"14\": 6,\n",
    "    \"15\": 5,\n",
    "    \"16\": 2,\n",
    "    \"17\": 8,\n",
    "    \"18\": 6,\n",
    "    \"19\": 2,\n",
    "    \"20\": 5,\n",
    "    \"21\": 1,\n",
    "    \"22\": 10,\n",
    "    \"23\": 6,\n",
    "    \"24\": 9,\n",
    "    \"25\": 1,\n",
    "    \"26\": 10,\n",
    "    \"27\": 3,\n",
    "    \"28\": 7,\n",
    "    \"29\": 4,\n",
    "    \"30\": 9,\n",
    "    \"31\": 3,\n",
    "    \"32\": 5,\n",
    "    \"33\": 3,\n",
    "    \"34\": 7,\n",
    "    \"35\": 5,\n",
    "    \"36\": 9,\n",
    "    \"37\": 7,\n",
    "    \"38\": 2,\n",
    "    \"39\": 4\n",
    "  },\n",
    "  \"EngagementTime\": {\n",
    "    \"0\": 44,\n",
    "    \"1\": 31,\n",
    "    \"2\": 42,\n",
    "    \"3\": 44,\n",
    "    \"4\": 38,\n",
    "    \"5\": 41,\n",
    "    \"6\": 44,\n",
    "    \"7\": 45,\n",
    "    \"8\": 42,\n",
    "    \"9\": 42,\n",
    "    \"10\": 46,\n",
    "    \"11\": 34,\n",
    "    \"12\": 37,\n",
    "    \"13\": 42,\n",
    "    \"14\": 44,\n",
    "    \"15\": 39,\n",
    "    \"16\": 37,\n",
    "    \"17\": 41,\n",
    "    \"18\": 48,\n",
    "    \"19\": 44,\n",
    "    \"20\": 44,\n",
    "    \"21\": 40,\n",
    "    \"22\": 41,\n",
    "    \"23\": 40,\n",
    "    \"24\": 39,\n",
    "    \"25\": 42,\n",
    "    \"26\": 38,\n",
    "    \"27\": 48,\n",
    "    \"28\": 45,\n",
    "    \"29\": 54,\n",
    "    \"30\": 42,\n",
    "    \"31\": 42,\n",
    "    \"32\": 43,\n",
    "    \"33\": 38,\n",
    "    \"34\": 33,\n",
    "    \"35\": 38,\n",
    "    \"36\": 40,\n",
    "    \"37\": 41,\n",
    "    \"38\": 40,\n",
    "    \"39\": 36\n",
    "  }\n",
    "}\n",
    "\n",
    "dark_data_frame = pd.DataFrame.from_dict(dark_data_dict)"
   ],
   "metadata": {
    "collapsed": false,
    "is_executing": true
   },
   "id": "150d1f424cfc3dcc"
  },
  {
   "cell_type": "code",
   "execution_count": null,
   "outputs": [],
   "source": [
    "light_data_dict = {\n",
    "  \"Theme\": {\n",
    "    \"0\": \"Light\",\n",
    "    \"1\": \"Light\",\n",
    "    \"2\": \"Light\",\n",
    "    \"3\": \"Light\",\n",
    "    \"4\": \"Light\",\n",
    "    \"5\": \"Light\",\n",
    "    \"6\": \"Light\",\n",
    "    \"7\": \"Light\",\n",
    "    \"8\": \"Light\",\n",
    "    \"9\": \"Light\",\n",
    "    \"10\": \"Light\",\n",
    "    \"11\": \"Light\",\n",
    "    \"12\": \"Light\",\n",
    "    \"13\": \"Light\",\n",
    "    \"14\": \"Light\",\n",
    "    \"15\": \"Light\",\n",
    "    \"16\": \"Light\",\n",
    "    \"17\": \"Light\",\n",
    "    \"18\": \"Light\",\n",
    "    \"19\": \"Light\",\n",
    "    \"20\": \"Light\",\n",
    "    \"21\": \"Light\",\n",
    "    \"22\": \"Light\",\n",
    "    \"23\": \"Light\",\n",
    "    \"24\": \"Light\",\n",
    "    \"25\": \"Light\",\n",
    "    \"26\": \"Light\",\n",
    "    \"27\": \"Light\",\n",
    "    \"28\": \"Light\",\n",
    "    \"29\": \"Light\",\n",
    "    \"30\": \"Light\",\n",
    "    \"31\": \"Light\",\n",
    "    \"32\": \"Light\",\n",
    "    \"33\": \"Light\",\n",
    "    \"34\": \"Light\",\n",
    "    \"35\": \"Light\",\n",
    "    \"36\": \"Light\",\n",
    "    \"37\": \"Light\",\n",
    "    \"38\": \"Light\",\n",
    "    \"39\": \"Light\"\n",
    "  },\n",
    "  \"Rating\": {\n",
    "    \"0\": 3,\n",
    "    \"1\": 1,\n",
    "    \"2\": 8,\n",
    "    \"3\": 3,\n",
    "    \"4\": 3,\n",
    "    \"5\": 1,\n",
    "    \"6\": 5,\n",
    "    \"7\": 10,\n",
    "    \"8\": 7,\n",
    "    \"9\": 10,\n",
    "    \"10\": 9,\n",
    "    \"11\": 7,\n",
    "    \"12\": 9,\n",
    "    \"13\": 8,\n",
    "    \"14\": 2,\n",
    "    \"15\": 1,\n",
    "    \"16\": 7,\n",
    "    \"17\": 7,\n",
    "    \"18\": 8,\n",
    "    \"19\": 5,\n",
    "    \"20\": 3,\n",
    "    \"21\": 8,\n",
    "    \"22\": 6,\n",
    "    \"23\": 3,\n",
    "    \"24\": 1,\n",
    "    \"25\": 3,\n",
    "    \"26\": 5,\n",
    "    \"27\": 3,\n",
    "    \"28\": 1,\n",
    "    \"29\": 5,\n",
    "    \"30\": 10,\n",
    "    \"31\": 7,\n",
    "    \"32\": 7,\n",
    "    \"33\": 9,\n",
    "    \"34\": 10,\n",
    "    \"35\": 10,\n",
    "    \"36\": 3,\n",
    "    \"37\": 7,\n",
    "    \"38\": 1,\n",
    "    \"39\": 4\n",
    "  },\n",
    "  \"EngagementTime\": {\n",
    "    \"0\": 36,\n",
    "    \"1\": 31,\n",
    "    \"2\": 36,\n",
    "    \"3\": 36,\n",
    "    \"4\": 35,\n",
    "    \"5\": 35,\n",
    "    \"6\": 33,\n",
    "    \"7\": 35,\n",
    "    \"8\": 32,\n",
    "    \"9\": 35,\n",
    "    \"10\": 40,\n",
    "    \"11\": 38,\n",
    "    \"12\": 34,\n",
    "    \"13\": 33,\n",
    "    \"14\": 38,\n",
    "    \"15\": 36,\n",
    "    \"16\": 38,\n",
    "    \"17\": 35,\n",
    "    \"18\": 39,\n",
    "    \"19\": 33,\n",
    "    \"20\": 42,\n",
    "    \"21\": 31,\n",
    "    \"22\": 36,\n",
    "    \"23\": 32,\n",
    "    \"24\": 35,\n",
    "    \"25\": 40,\n",
    "    \"26\": 34,\n",
    "    \"27\": 32,\n",
    "    \"28\": 37,\n",
    "    \"29\": 35,\n",
    "    \"30\": 32,\n",
    "    \"31\": 38,\n",
    "    \"32\": 32,\n",
    "    \"33\": 35,\n",
    "    \"34\": 37,\n",
    "    \"35\": 37,\n",
    "    \"36\": 33,\n",
    "    \"37\": 33,\n",
    "    \"38\": 37,\n",
    "    \"39\": 37\n",
    "  }\n",
    "}\n",
    "\n",
    "light_data_frame = pd.DataFrame.from_dict(light_data_dict)"
   ],
   "metadata": {
    "collapsed": false,
    "is_executing": true
   },
   "id": "19303ca37759adab"
  },
  {
   "cell_type": "markdown",
   "source": [
    "The conditions we need for inference on a mean are:\n",
    "Random: A random sample or randomized experiment should be used to obtain the data.\n",
    "Normal: The sampling distribution of sample x (the sample mean) needs to be approximately normal. This is true if our parent population is normal or if our sample is reasonably large (n >= 30).\n",
    "Independent: Individual observations need to be independent. If sampling without replacement, our sample size shouldn't be more than 10% of the population."
   ],
   "metadata": {
    "collapsed": false
   },
   "id": "78865894a84be8ed"
  },
  {
   "cell_type": "markdown",
   "source": [
    "# Confidence interval\n",
    "Confidence interval 95%"
   ],
   "metadata": {
    "collapsed": false
   },
   "id": "b86a67c038eacf4f"
  },
  {
   "cell_type": "code",
   "execution_count": null,
   "outputs": [],
   "source": [
    "### Ratings\n",
    "# Concatenate the two DataFrames to create the full dataset\n",
    "dataset = pd.concat([dark_data_frame, light_data_frame], ignore_index=True)\n",
    "\n",
    "# Create separate data for \"Light\" and \"Dark\" themes\n",
    "dark_ratings = dataset[dataset['Theme'] == 'Dark']['Rating']\n",
    "light_ratings = dataset[dataset['Theme'] == 'Light']['Rating']\n",
    "\n",
    "# Calculate rating distributions for each theme\n",
    "dark_rating_counts = dark_ratings.value_counts().sort_index()\n",
    "light_rating_counts = light_ratings.value_counts().sort_index()\n",
    "\n",
    "# Create a bar chart to compare website ratings by theme\n",
    "width = 0.4  # Width of the bars\n",
    "\n",
    "# Creating plot\n",
    "plt.figure(figsize=(9, 7))\n",
    "plt.bar(dark_rating_counts.index - width / 2, dark_rating_counts.values, width, color='#000000', label='Dark Theme',\n",
    "        alpha=0.7)\n",
    "plt.bar(light_rating_counts.index + width / 2, light_rating_counts.values, width, color='#bbbbbb', label='Light Theme',\n",
    "        alpha=0.7)\n",
    "\n",
    "# Plot Features\n",
    "plt.title('Website Rating Comparison by Theme')\n",
    "plt.xlabel('Rating (1-10)')\n",
    "plt.ylabel('Number of People')\n",
    "plt.xticks(range(1, 11))\n",
    "plt.legend()\n",
    "plt.grid(True)\n",
    "\n",
    "# Calculate smoothed curves for dark and light themes\n",
    "x = dark_rating_counts.index\n",
    "dark_curve = interp.make_smoothing_spline(dark_rating_counts.index, dark_rating_counts.values)\n",
    "light_curve = interp.make_smoothing_spline(light_rating_counts.index, light_rating_counts.values)\n",
    "\n",
    "# Plot the smoothed curves\n",
    "x_smooth = np.linspace(x.min(), x.max(), 100)\n",
    "plt.plot(x_smooth, dark_curve(x_smooth), linestyle='-', color='#222222', label='Dark Theme Curve')\n",
    "plt.plot(x_smooth, light_curve(x_smooth), linestyle='-', color='#aaaaaa', label='Light Theme Curve')\n",
    "\n",
    "plt.legend()\n",
    "\n",
    "plt.show()"
   ],
   "metadata": {
    "collapsed": false,
    "is_executing": true
   },
   "id": "b8a24b0294608544"
  },
  {
   "cell_type": "code",
   "execution_count": null,
   "outputs": [],
   "source": [
    "### Times\n",
    "# Concatenate the two DataFrames to create the full dataset\n",
    "dataset = pd.concat([dark_data_frame, light_data_frame], ignore_index=True)\n",
    "\n",
    "# Create separate data for \"Light\" and \"Dark\" themes\n",
    "dark_engagement_times = dataset[dataset['Theme'] == 'Dark']['EngagementTime']\n",
    "light_engagement_times = dataset[dataset['Theme'] == 'Light']['EngagementTime']\n",
    "\n",
    "fig, (ax1, ax2) = plt.subplots(1, 2, figsize=(14, 9))\n",
    "bin_width = 1.5\n",
    "ax1.hist(dark_engagement_times.values, int((max(dark_engagement_times.values) - min(dark_engagement_times.values)) / bin_width), color='#000000', edgecolor='#bbbbbb')\n",
    "ax2.hist(light_engagement_times.values, int((max(light_engagement_times.values) - min(light_engagement_times.values)) / bin_width), color='#bbbbbb', edgecolor='#000000')\n",
    "\n",
    "ax1.set_title('Website Engagement Times Comparison by Theme')\n",
    "ax1.set_xlabel('Engagement Time (seconds)')\n",
    "ax1.set_ylabel('Number of People')\n",
    "ax1.grid(True)\n",
    "\n",
    "ax2.set_title('Website Engagement Times Comparison by Theme')\n",
    "ax2.set_xlabel('Engagement Time (seconds)')\n",
    "ax2.set_ylabel('Number of People')\n",
    "ax2.grid(True)\n",
    "\n",
    "ax1.set_xlim(30, 60)\n",
    "ax2.set_xlim(30, 60)\n",
    "\n",
    "plt.show()"
   ],
   "metadata": {
    "collapsed": false,
    "is_executing": true
   },
   "id": "7b5015e67477ad9b"
  },
  {
   "cell_type": "code",
   "execution_count": null,
   "outputs": [],
   "source": [
    "# Calculate and compare the mean engagement times\n",
    "mean_engagement_times = dataset.groupby('Theme')['EngagementTime'].mean().reset_index()\n",
    "print(mean_engagement_times)\n",
    "\n",
    "# Calculate and compare the mean ratings\n",
    "mean_ratings = dataset.groupby('Theme')['Rating'].mean().reset_index()\n",
    "print(mean_ratings)"
   ],
   "metadata": {
    "collapsed": false,
    "is_executing": true
   },
   "id": "251df418c7068930"
  },
  {
   "cell_type": "code",
   "execution_count": null,
   "outputs": [],
   "source": [
    "### T test for Rating mean\n",
    "dark_mean = mean_ratings[mean_ratings['Theme'] == 'Dark']['Rating'].values[0]\n",
    "light_mean = mean_ratings[mean_ratings['Theme'] == 'Light']['Rating'].values[0]\n",
    "\n",
    "# Perform independent samples t-test\n",
    "t_value, p_value = stats.ttest_ind(dataset[dataset['Theme'] == 'Dark'][\"Rating\"], dataset[dataset['Theme'] == 'Light'][\"Rating\"])\n",
    "\n",
    "print(\"T-Statistic_scipy:\", t_value)\n",
    "print(\"P-Value_scipy:\", p_value)"
   ],
   "metadata": {
    "collapsed": false,
    "is_executing": true
   },
   "id": "e78b6eb53aa183bd"
  },
  {
   "cell_type": "markdown",
   "source": [
    "Based on the confidence interval we cannot reject Null Hypothesis"
   ],
   "metadata": {
    "collapsed": false
   },
   "id": "40e0ba643f9068d3"
  },
  {
   "cell_type": "code",
   "execution_count": null,
   "outputs": [],
   "source": [
    "### T test for Engagement Time mean\n",
    "# Perform independent samples t-test\n",
    "t_value, p_value = stats.ttest_ind(dataset[dataset['Theme'] == 'Dark'][\"EngagementTime\"], dataset[dataset['Theme'] == 'Light'][\"EngagementTime\"])\n",
    "\n",
    "print(\"T-Statistic_scipy:\", t_value)\n",
    "print(\"P-Value_scipy:\", p_value)\n",
    "print(\"P-Value_scipy:\", (\"%.17f\" % p_value).rstrip('0').rstrip('.'))"
   ],
   "metadata": {
    "collapsed": false
   },
   "id": "1f4b3b69dd624bcf"
  },
  {
   "cell_type": "markdown",
   "source": [
    "Based on the confidence interval we can reject Null Hypothesis"
   ],
   "metadata": {
    "collapsed": false
   },
   "id": "b621bb888c44b6f6"
  },
  {
   "cell_type": "markdown",
   "source": [
    "# Sources\n",
    "https://vitalflux.com/two-samples-z-test-for-means-formula-examples/\n",
    "https://www.statstest.com/independent-samples-z-test/#:~:text=The%20Independent%20Samples%20Z%2DTest,spread%20between%20your%202%20groups.\n",
    "https://vitalflux.com/wp-content/uploads/2022/01/z-test-vs-t-test.jpg\n",
    "https://www.analyticsvidhya.com/blog/2020/06/statistics-analytics-hypothesis-testing-z-test-t-test/#:~:text=A.,the%20population%20variance%20is%20unknown.\n",
    "https://www.khanacademy.org/math/statistics-probability/significance-tests-one-sample/tests-about-population-proportion/v/calculating-p-value-from-z-table\n",
    "https://www.khanacademy.org/math/statistics-probability/significance-tests-one-sample/tests-about-population-mean/v/when-to-use-z-or-t-statistics-in-significance-tests\n",
    "https://www.youtube.com/watch?v=VekJxtk4BYM"
   ],
   "metadata": {
    "collapsed": false
   },
   "id": "fe9535de01abc1d7"
  },
  {
   "cell_type": "markdown",
   "source": [
    "# Simulations"
   ],
   "metadata": {
    "collapsed": false
   },
   "id": "9b76e4f0c0807164"
  },
  {
   "cell_type": "markdown",
   "source": [
    "# Questions\n",
    "our sampling distribution is not normal, but we have more than 30 samples, so can we build a confidence interval or do a significance test for z-tests?\n",
    "I don't think so, because sample distribution is not normal and for the formula we need the mean of population\n"
   ],
   "metadata": {
    "collapsed": false
   },
   "id": "11a36b0f097ab378"
  }
 ],
 "metadata": {
  "kernelspec": {
   "display_name": "Python 3",
   "language": "python",
   "name": "python3"
  },
  "language_info": {
   "codemirror_mode": {
    "name": "ipython",
    "version": 2
   },
   "file_extension": ".py",
   "mimetype": "text/x-python",
   "name": "python",
   "nbconvert_exporter": "python",
   "pygments_lexer": "ipython2",
   "version": "2.7.6"
  }
 },
 "nbformat": 4,
 "nbformat_minor": 5
}
