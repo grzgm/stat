{
 "cells": [
  {
   "cell_type": "markdown",
   "source": [
    "# Does the Light and Dark Theme matter"
   ],
   "metadata": {
    "collapsed": false
   }
  },
  {
   "cell_type": "code",
   "execution_count": 27,
   "outputs": [],
   "source": [
    "import pandas as pd\n",
    "import numpy as np\n",
    "import matplotlib.pyplot as plt\n",
    "import scipy.interpolate as interp\n",
    "import scipy.stats as stats"
   ],
   "metadata": {
    "collapsed": false,
    "ExecuteTime": {
     "end_time": "2023-10-12T13:42:31.852819600Z",
     "start_time": "2023-10-12T13:42:31.645709700Z"
    }
   }
  },
  {
   "cell_type": "markdown",
   "id": "5245dc559f94271c",
   "metadata": {
    "collapsed": false,
    "jupyter": {
     "outputs_hidden": false
    }
   },
   "source": [
    "# Table of Contents\n",
    "[Table of Contents](#Table-of-Contents)\n",
    "[Introduction](#Introduction)\n",
    "[Research Question](#Research-Question)\n",
    "[Quantitative Question](#Quantitative-Question)\n",
    "[Hypothesis](#Hypothesis)\n",
    "[Experimental Design](#Experimental-Design)\n",
    "[Data Gathering](#Data-Gathering)\n",
    "[Exploratory Data Analysis](#Exploratory-Data-Analysis)\n",
    "[Assessing Assumptions](#Assessing-Assumptions)\n",
    "[Testing Hypothesis I](#Testing-Hypothesis-I)\n",
    "[Testing Hypothesis II](#Testing-Hypothesis-II)\n",
    "[Limitations](#Limitations)\n",
    "[Reflections](#Reflections)\n",
    "[Conclusion](#Conclusion)\n",
    "[Sources](#Sources)\n",
    "[Simulations](#Simulations)\n",
    "[P-Hacking](#P-Hacking)"
   ]
  },
  {
   "cell_type": "code",
   "execution_count": null,
   "outputs": [],
   "source": [
    "Random Sample errors avoided\n",
    "\n",
    "test if the data is normally distributed?? for ratings Levee;s test [YouTube Video Guide](https://youtu.be/VekJxtk4BYM?t=293)\n",
    "[How to calculate t value](https://youtu.be/VekJxtk4BYM?t=491)"
   ],
   "metadata": {
    "collapsed": false
   }
  },
  {
   "cell_type": "markdown",
   "source": [
    "# Introduction\n",
    "In the world of digital interfaces, the choice between light and dark themes is a topic of ongoing debate. This study undertakes a simple exploration: do these themes matter to users? I approach this question with a meticulous investigation, aiming to provide straightforward answers. By understanding the user perspective in clear terms, I try to contribute valuable insights to the conversation on interface design."
   ],
   "metadata": {
    "collapsed": false
   }
  },
  {
   "cell_type": "markdown",
   "id": "3463edb18d11e964",
   "metadata": {
    "collapsed": false,
    "jupyter": {
     "outputs_hidden": false
    }
   },
   "source": [
    "# Research Question\n",
    "Does Dark Mode and Light Mode of the same website have different effect on the user satisfaction?"
   ]
  },
  {
   "cell_type": "markdown",
   "id": "7bc017e4dc7048ef",
   "metadata": {
    "collapsed": false,
    "jupyter": {
     "outputs_hidden": false
    }
   },
   "source": [
    "# Quantitative Question\n",
    "Participants of the study were asked question:\n",
    "On a scale of 1 to 10, how satisfied are you with the overall design and appearance of the layout you experienced?\n",
    "(1 - Not Satisfied; 10 - Highly Satisfied)\n",
    "In addition to questionnaire we have also measured engagement time."
   ]
  },
  {
   "cell_type": "markdown",
   "id": "1b8a1efb",
   "metadata": {
    "collapsed": false,
    "jupyter": {
     "outputs_hidden": false
    }
   },
   "source": [
    "# Hypothesis\n",
    "## Hypothesis I\n",
    "Null Hypothesis: \"Mean Rating of Dark Mode $\\mu_{dark}$ and mean Rating of Light Mode $\\mu_{light}$ of the same website are the same.\"\n",
    "Alternative Hypothesis: \"Mean Rating of Dark Mode $\\mu_{dark}$ and mean Rating of Light Mode $\\mu_{light}$ of the same website are not the same.\"\n",
    "\n",
    "$$H_{0} : \\mu_{dark} = \\mu_{light}$$\n",
    "$$H_{a} : \\mu_{dark} \\neq \\mu_{light}$$\n",
    "\n",
    "## Hypothesis II\n",
    "Null Hypothesis: \"Mean Engagement Time of Dark Mode $\\mu_{dark}$ and mean Engagement Time of Light Mode $\\mu_{light}$ of the same website are the same.\"\n",
    "Alternative Hypothesis: \"Mean Engagement Time of Dark Mode $\\mu_{dark}$ and mean Engagement Time of Light Mode $\\mu_{light}$ of the same website are not the same.\"\n",
    "\n",
    "$$H_{0} : \\mu_{dark} = \\mu_{light}$$\n",
    "$$H_{a} : \\mu_{dark} \\neq \\mu_{light}$$"
   ]
  },
  {
   "cell_type": "markdown",
   "source": [
    "# Experimental Design\n",
    "We did *independent samples t-test* with *95% Confidence Interval* where participants were sampled with usage of *randomized controlled trial (RCT)*. *The explanatory variable was dark mode or light mode option*, *the response variables were rating of website and engagement time* and *the experimental units were people*. One group was offered a website with dark mode and the other group was offered a website with light mode. The aim was to get *80 responses* (40 for each group) in the period of 2 weeks.\n",
    "People were randomly selected for the test using this schema:\n",
    "* Random number between 1 and 2 (1 dark mode, 2 light mode)\n",
    "* Find first person\n",
    "* Depending on the random number first person is shown appropriate website\n",
    "* Find second person\n",
    "* Depending on the random number second person is shown other website\n",
    "* Repeat\n",
    "\n",
    "```mermaid\n",
    "graph LR\n",
    "A[Random number 1 or 2] --> B\n",
    "B[Find first person] --> C\n",
    "C[shown appropriate website] --> D\n",
    "D[Find second person] --> E\n",
    "E[shown other website] --Repeat--> A\n",
    "```\n",
    "\n",
    "In order for the experiment inference to be valuable those conditions need to be met:\n",
    "* Random: A random sample or randomized experiment should be used to obtain the data.\n",
    "* Normal: The sampling distribution of sample x (the sample mean) needs to be approximately normal. This is true if our parent population is normal or if our sample is reasonably large (n $\\ge$ 30).\n",
    "* Independent: Individual observations need to be independent. If sampling without replacement, our sample size shouldn't be more than 10% of the population.\n",
    "\n",
    "*Random* was met with the usage of *RTC* sampling method.\n",
    "*Normal* was met by having two sample groups of 40 participants.\n",
    "*Independent* sample size smaller than 10% of population.\n",
    "\n",
    "Avoiding Bias in samples and surveys:\n",
    "https://www.khanacademy.org/math/probability/xa88397b6:study-design/xa88397b6:potential-problems-sampling/a/identifying-bias-in-samples-and-surveys"
   ],
   "metadata": {
    "collapsed": false
   }
  },
  {
   "cell_type": "markdown",
   "source": [
    "# Data Gathering\n",
    "Data is grouped into dataframes with the unique Id of participant, specified Theme that they were shown, Rating given by participant and their Engagement Time"
   ],
   "metadata": {
    "collapsed": false
   }
  },
  {
   "cell_type": "code",
   "execution_count": 28,
   "id": "150d1f424cfc3dcc",
   "metadata": {
    "collapsed": false,
    "jupyter": {
     "outputs_hidden": false
    },
    "ExecuteTime": {
     "end_time": "2023-10-12T13:42:31.908004400Z",
     "start_time": "2023-10-12T13:42:31.706368800Z"
    }
   },
   "outputs": [],
   "source": [
    "dark_data_dict = {\n",
    "  \"Theme\": {\n",
    "    \"0\": \"Dark\",\n",
    "    \"1\": \"Dark\",\n",
    "    \"2\": \"Dark\",\n",
    "    \"3\": \"Dark\",\n",
    "    \"4\": \"Dark\",\n",
    "    \"5\": \"Dark\",\n",
    "    \"6\": \"Dark\",\n",
    "    \"7\": \"Dark\",\n",
    "    \"8\": \"Dark\",\n",
    "    \"9\": \"Dark\",\n",
    "    \"10\": \"Dark\",\n",
    "    \"11\": \"Dark\",\n",
    "    \"12\": \"Dark\",\n",
    "    \"13\": \"Dark\",\n",
    "    \"14\": \"Dark\",\n",
    "    \"15\": \"Dark\",\n",
    "    \"16\": \"Dark\",\n",
    "    \"17\": \"Dark\",\n",
    "    \"18\": \"Dark\",\n",
    "    \"19\": \"Dark\",\n",
    "    \"20\": \"Dark\",\n",
    "    \"21\": \"Dark\",\n",
    "    \"22\": \"Dark\",\n",
    "    \"23\": \"Dark\",\n",
    "    \"24\": \"Dark\",\n",
    "    \"25\": \"Dark\",\n",
    "    \"26\": \"Dark\",\n",
    "    \"27\": \"Dark\",\n",
    "    \"28\": \"Dark\",\n",
    "    \"29\": \"Dark\",\n",
    "    \"30\": \"Dark\",\n",
    "    \"31\": \"Dark\",\n",
    "    \"32\": \"Dark\",\n",
    "    \"33\": \"Dark\",\n",
    "    \"34\": \"Dark\",\n",
    "    \"35\": \"Dark\",\n",
    "    \"36\": \"Dark\",\n",
    "    \"37\": \"Dark\",\n",
    "    \"38\": \"Dark\",\n",
    "    \"39\": \"Dark\"\n",
    "  },\n",
    "  \"Rating\": {\n",
    "    \"0\": 7,\n",
    "    \"1\": 4,\n",
    "    \"2\": 8,\n",
    "    \"3\": 5,\n",
    "    \"4\": 7,\n",
    "    \"5\": 10,\n",
    "    \"6\": 3,\n",
    "    \"7\": 7,\n",
    "    \"8\": 8,\n",
    "    \"9\": 5,\n",
    "    \"10\": 4,\n",
    "    \"11\": 8,\n",
    "    \"12\": 8,\n",
    "    \"13\": 3,\n",
    "    \"14\": 6,\n",
    "    \"15\": 5,\n",
    "    \"16\": 2,\n",
    "    \"17\": 8,\n",
    "    \"18\": 6,\n",
    "    \"19\": 2,\n",
    "    \"20\": 5,\n",
    "    \"21\": 1,\n",
    "    \"22\": 10,\n",
    "    \"23\": 6,\n",
    "    \"24\": 9,\n",
    "    \"25\": 1,\n",
    "    \"26\": 10,\n",
    "    \"27\": 3,\n",
    "    \"28\": 7,\n",
    "    \"29\": 4,\n",
    "    \"30\": 9,\n",
    "    \"31\": 3,\n",
    "    \"32\": 5,\n",
    "    \"33\": 3,\n",
    "    \"34\": 7,\n",
    "    \"35\": 5,\n",
    "    \"36\": 9,\n",
    "    \"37\": 7,\n",
    "    \"38\": 2,\n",
    "    \"39\": 4\n",
    "  },\n",
    "  \"EngagementTime\": {\n",
    "    \"0\": 44,\n",
    "    \"1\": 31,\n",
    "    \"2\": 42,\n",
    "    \"3\": 44,\n",
    "    \"4\": 38,\n",
    "    \"5\": 41,\n",
    "    \"6\": 44,\n",
    "    \"7\": 45,\n",
    "    \"8\": 42,\n",
    "    \"9\": 42,\n",
    "    \"10\": 46,\n",
    "    \"11\": 34,\n",
    "    \"12\": 37,\n",
    "    \"13\": 42,\n",
    "    \"14\": 44,\n",
    "    \"15\": 39,\n",
    "    \"16\": 37,\n",
    "    \"17\": 41,\n",
    "    \"18\": 48,\n",
    "    \"19\": 44,\n",
    "    \"20\": 44,\n",
    "    \"21\": 40,\n",
    "    \"22\": 41,\n",
    "    \"23\": 40,\n",
    "    \"24\": 39,\n",
    "    \"25\": 42,\n",
    "    \"26\": 38,\n",
    "    \"27\": 48,\n",
    "    \"28\": 45,\n",
    "    \"29\": 54,\n",
    "    \"30\": 42,\n",
    "    \"31\": 42,\n",
    "    \"32\": 43,\n",
    "    \"33\": 38,\n",
    "    \"34\": 33,\n",
    "    \"35\": 38,\n",
    "    \"36\": 40,\n",
    "    \"37\": 41,\n",
    "    \"38\": 40,\n",
    "    \"39\": 36\n",
    "  }\n",
    "}\n",
    "\n",
    "dark_data_frame = pd.DataFrame.from_dict(dark_data_dict)"
   ]
  },
  {
   "cell_type": "code",
   "execution_count": 29,
   "id": "19303ca37759adab",
   "metadata": {
    "collapsed": false,
    "jupyter": {
     "outputs_hidden": false
    },
    "ExecuteTime": {
     "end_time": "2023-10-12T13:42:31.909995500Z",
     "start_time": "2023-10-12T13:42:31.750086500Z"
    }
   },
   "outputs": [],
   "source": [
    "light_data_dict = {\n",
    "  \"Theme\": {\n",
    "    \"0\": \"Light\",\n",
    "    \"1\": \"Light\",\n",
    "    \"2\": \"Light\",\n",
    "    \"3\": \"Light\",\n",
    "    \"4\": \"Light\",\n",
    "    \"5\": \"Light\",\n",
    "    \"6\": \"Light\",\n",
    "    \"7\": \"Light\",\n",
    "    \"8\": \"Light\",\n",
    "    \"9\": \"Light\",\n",
    "    \"10\": \"Light\",\n",
    "    \"11\": \"Light\",\n",
    "    \"12\": \"Light\",\n",
    "    \"13\": \"Light\",\n",
    "    \"14\": \"Light\",\n",
    "    \"15\": \"Light\",\n",
    "    \"16\": \"Light\",\n",
    "    \"17\": \"Light\",\n",
    "    \"18\": \"Light\",\n",
    "    \"19\": \"Light\",\n",
    "    \"20\": \"Light\",\n",
    "    \"21\": \"Light\",\n",
    "    \"22\": \"Light\",\n",
    "    \"23\": \"Light\",\n",
    "    \"24\": \"Light\",\n",
    "    \"25\": \"Light\",\n",
    "    \"26\": \"Light\",\n",
    "    \"27\": \"Light\",\n",
    "    \"28\": \"Light\",\n",
    "    \"29\": \"Light\",\n",
    "    \"30\": \"Light\",\n",
    "    \"31\": \"Light\",\n",
    "    \"32\": \"Light\",\n",
    "    \"33\": \"Light\",\n",
    "    \"34\": \"Light\",\n",
    "    \"35\": \"Light\",\n",
    "    \"36\": \"Light\",\n",
    "    \"37\": \"Light\",\n",
    "    \"38\": \"Light\",\n",
    "    \"39\": \"Light\"\n",
    "  },\n",
    "  \"Rating\": {\n",
    "    \"0\": 3,\n",
    "    \"1\": 1,\n",
    "    \"2\": 8,\n",
    "    \"3\": 3,\n",
    "    \"4\": 3,\n",
    "    \"5\": 1,\n",
    "    \"6\": 5,\n",
    "    \"7\": 10,\n",
    "    \"8\": 7,\n",
    "    \"9\": 10,\n",
    "    \"10\": 9,\n",
    "    \"11\": 7,\n",
    "    \"12\": 9,\n",
    "    \"13\": 8,\n",
    "    \"14\": 2,\n",
    "    \"15\": 1,\n",
    "    \"16\": 7,\n",
    "    \"17\": 7,\n",
    "    \"18\": 8,\n",
    "    \"19\": 5,\n",
    "    \"20\": 3,\n",
    "    \"21\": 8,\n",
    "    \"22\": 6,\n",
    "    \"23\": 3,\n",
    "    \"24\": 1,\n",
    "    \"25\": 3,\n",
    "    \"26\": 5,\n",
    "    \"27\": 3,\n",
    "    \"28\": 1,\n",
    "    \"29\": 5,\n",
    "    \"30\": 10,\n",
    "    \"31\": 7,\n",
    "    \"32\": 7,\n",
    "    \"33\": 9,\n",
    "    \"34\": 10,\n",
    "    \"35\": 10,\n",
    "    \"36\": 3,\n",
    "    \"37\": 7,\n",
    "    \"38\": 1,\n",
    "    \"39\": 4\n",
    "  },\n",
    "  \"EngagementTime\": {\n",
    "    \"0\": 36,\n",
    "    \"1\": 31,\n",
    "    \"2\": 36,\n",
    "    \"3\": 36,\n",
    "    \"4\": 35,\n",
    "    \"5\": 35,\n",
    "    \"6\": 33,\n",
    "    \"7\": 35,\n",
    "    \"8\": 32,\n",
    "    \"9\": 35,\n",
    "    \"10\": 40,\n",
    "    \"11\": 38,\n",
    "    \"12\": 34,\n",
    "    \"13\": 33,\n",
    "    \"14\": 38,\n",
    "    \"15\": 36,\n",
    "    \"16\": 38,\n",
    "    \"17\": 35,\n",
    "    \"18\": 39,\n",
    "    \"19\": 33,\n",
    "    \"20\": 42,\n",
    "    \"21\": 31,\n",
    "    \"22\": 36,\n",
    "    \"23\": 32,\n",
    "    \"24\": 35,\n",
    "    \"25\": 40,\n",
    "    \"26\": 34,\n",
    "    \"27\": 32,\n",
    "    \"28\": 37,\n",
    "    \"29\": 35,\n",
    "    \"30\": 32,\n",
    "    \"31\": 38,\n",
    "    \"32\": 32,\n",
    "    \"33\": 35,\n",
    "    \"34\": 37,\n",
    "    \"35\": 37,\n",
    "    \"36\": 33,\n",
    "    \"37\": 33,\n",
    "    \"38\": 37,\n",
    "    \"39\": 37\n",
    "  }\n",
    "}\n",
    "\n",
    "light_data_frame = pd.DataFrame.from_dict(light_data_dict)"
   ]
  },
  {
   "cell_type": "markdown",
   "id": "b86a67c038eacf4f",
   "metadata": {
    "collapsed": false,
    "jupyter": {
     "outputs_hidden": false
    }
   },
   "source": [
    "# Exploratory Data Analysis"
   ]
  },
  {
   "cell_type": "code",
   "execution_count": 30,
   "id": "b8a24b0294608544",
   "metadata": {
    "collapsed": false,
    "jupyter": {
     "outputs_hidden": false
    },
    "ExecuteTime": {
     "end_time": "2023-10-12T13:42:32.665242300Z",
     "start_time": "2023-10-12T13:42:31.778447500Z"
    }
   },
   "outputs": [
    {
     "data": {
      "text/plain": "<Figure size 900x700 with 1 Axes>",
      "image/png": "[encoded data removed]"
     },
     "metadata": {},
     "output_type": "display_data"
    }
   ],
   "source": [
    "### Ratings\n",
    "# Concatenate the two DataFrames to create the full dataset\n",
    "dataset = pd.concat([dark_data_frame, light_data_frame], ignore_index=True)\n",
    "\n",
    "# Create separate data for \"Light\" and \"Dark\" themes\n",
    "dark_ratings = dataset[dataset['Theme'] == 'Dark']['Rating']\n",
    "light_ratings = dataset[dataset['Theme'] == 'Light']['Rating']\n",
    "\n",
    "# Calculate rating distributions for each theme\n",
    "dark_rating_counts = dark_ratings.value_counts().sort_index()\n",
    "light_rating_counts = light_ratings.value_counts().sort_index()\n",
    "\n",
    "# Create a bar chart to compare website ratings by theme\n",
    "width = 0.4  # Width of the bars\n",
    "\n",
    "# Creating plot\n",
    "plt.figure(figsize=(9, 7))\n",
    "plt.bar(dark_rating_counts.index - width / 2, dark_rating_counts.values, width, color='#000000', label='Dark Theme',\n",
    "        alpha=0.7)\n",
    "plt.bar(light_rating_counts.index + width / 2, light_rating_counts.values, width, color='#bbbbbb', label='Light Theme',\n",
    "        alpha=0.7)\n",
    "\n",
    "# Plot Features\n",
    "plt.title('Website Rating Comparison by Theme')\n",
    "plt.xlabel('Rating (1-10)')\n",
    "plt.ylabel('Number of People')\n",
    "plt.xticks(range(1, 11))\n",
    "plt.legend()\n",
    "plt.grid(True)\n",
    "\n",
    "# Calculate smoothed curves for dark and light themes\n",
    "x = dark_rating_counts.index\n",
    "dark_curve = interp.make_smoothing_spline(dark_rating_counts.index, dark_rating_counts.values)\n",
    "light_curve = interp.make_smoothing_spline(light_rating_counts.index, light_rating_counts.values)\n",
    "\n",
    "# Plot the smoothed curves\n",
    "x_smooth = np.linspace(x.min(), x.max(), 100)\n",
    "plt.plot(x_smooth, dark_curve(x_smooth), linestyle='-', color='#222222', label='Dark Theme Curve')\n",
    "plt.plot(x_smooth, light_curve(x_smooth), linestyle='-', color='#aaaaaa', label='Light Theme Curve')\n",
    "\n",
    "plt.legend()\n",
    "\n",
    "plt.show()"
   ]
  },
  {
   "cell_type": "code",
   "execution_count": 31,
   "id": "7b5015e67477ad9b",
   "metadata": {
    "collapsed": false,
    "jupyter": {
     "outputs_hidden": false
    },
    "ExecuteTime": {
     "end_time": "2023-10-12T13:42:33.240812300Z",
     "start_time": "2023-10-12T13:42:32.650242700Z"
    }
   },
   "outputs": [
    {
     "data": {
      "text/plain": "<Figure size 1400x900 with 2 Axes>",
      "image/png": "[encoded data removed]"
     },
     "metadata": {},
     "output_type": "display_data"
    }
   ],
   "source": [
    "### Times\n",
    "# Concatenate the two DataFrames to create the full dataset\n",
    "dataset = pd.concat([dark_data_frame, light_data_frame], ignore_index=True)\n",
    "\n",
    "# Create separate data for \"Light\" and \"Dark\" themes\n",
    "dark_engagement_times = dataset[dataset['Theme'] == 'Dark']['EngagementTime']\n",
    "light_engagement_times = dataset[dataset['Theme'] == 'Light']['EngagementTime']\n",
    "\n",
    "fig, (ax1, ax2) = plt.subplots(1, 2, figsize=(14, 9))\n",
    "bin_width = 1.5\n",
    "ax1.hist(dark_engagement_times.values, int((max(dark_engagement_times.values) - min(dark_engagement_times.values)) / bin_width), color='#000000', edgecolor='#bbbbbb')\n",
    "ax2.hist(light_engagement_times.values, int((max(light_engagement_times.values) - min(light_engagement_times.values)) / bin_width), color='#bbbbbb', edgecolor='#000000')\n",
    "\n",
    "ax1.set_title('Website Engagement Times Comparison by Theme')\n",
    "ax1.set_xlabel('Engagement Time (seconds)')\n",
    "ax1.set_ylabel('Number of People')\n",
    "ax1.grid(True)\n",
    "\n",
    "ax2.set_title('Website Engagement Times Comparison by Theme')\n",
    "ax2.set_xlabel('Engagement Time (seconds)')\n",
    "ax2.set_ylabel('Number of People')\n",
    "ax2.grid(True)\n",
    "\n",
    "ax1.set_xlim(30, 60)\n",
    "ax2.set_xlim(30, 60)\n",
    "\n",
    "plt.show()"
   ]
  },
  {
   "cell_type": "code",
   "execution_count": 32,
   "id": "251df418c7068930",
   "metadata": {
    "collapsed": false,
    "jupyter": {
     "outputs_hidden": false
    },
    "ExecuteTime": {
     "end_time": "2023-10-12T13:42:33.479192Z",
     "start_time": "2023-10-12T13:42:33.241682Z"
    }
   },
   "outputs": [
    {
     "name": "stdout",
     "output_type": "stream",
     "text": [
      "   Theme  Rating\n",
      "0   Dark    5.65\n",
      "1  Light    5.50\n",
      "   Theme  EngagementTime\n",
      "0   Dark          41.225\n",
      "1  Light          35.325\n"
     ]
    }
   ],
   "source": [
    "# Calculate and compare the mean ratings\n",
    "mean_ratings = dataset.groupby('Theme')['Rating'].mean().reset_index()\n",
    "print(mean_ratings)\n",
    "\n",
    "# Calculate and compare the mean engagement times\n",
    "mean_engagement_times = dataset.groupby('Theme')['EngagementTime'].mean().reset_index()\n",
    "print(mean_engagement_times)"
   ]
  },
  {
   "cell_type": "markdown",
   "source": [
    "# Assessing Assumptions"
   ],
   "metadata": {
    "collapsed": false
   }
  },
  {
   "cell_type": "code",
   "execution_count": 33,
   "id": "e78b6eb53aa183bd",
   "metadata": {
    "collapsed": false,
    "jupyter": {
     "outputs_hidden": false
    },
    "ExecuteTime": {
     "end_time": "2023-10-12T13:42:33.479192Z",
     "start_time": "2023-10-12T13:42:33.260326400Z"
    }
   },
   "outputs": [
    {
     "name": "stdout",
     "output_type": "stream",
     "text": [
      "T-Statistic for Rating: 0.23658388427944485\n",
      "P-Value for Rating: 0.8135998245893583\n"
     ]
    }
   ],
   "source": [
    "# Perform independent samples t-test\n",
    "t_value, p_value = stats.ttest_ind(dataset[dataset['Theme'] == 'Dark'][\"Rating\"], dataset[dataset['Theme'] == 'Light'][\"Rating\"])\n",
    "\n",
    "print(\"T-Statistic for Rating:\", t_value)\n",
    "print(\"P-Value for Rating:\", p_value)"
   ]
  },
  {
   "cell_type": "code",
   "execution_count": 34,
   "id": "1f4b3b69dd624bcf",
   "metadata": {
    "collapsed": false,
    "jupyter": {
     "outputs_hidden": false
    },
    "ExecuteTime": {
     "end_time": "2023-10-12T13:42:33.480190600Z",
     "start_time": "2023-10-12T13:42:33.323277600Z"
    }
   },
   "outputs": [
    {
     "name": "stdout",
     "output_type": "stream",
     "text": [
      "T-Statistic for Engagement Time: 7.460106557815275\n",
      "P-Value for Engagement Time: 0.00000000010373668\n"
     ]
    }
   ],
   "source": [
    "### T test for Engagement Time mean\n",
    "# Perform independent samples t-test\n",
    "t_value, p_value = stats.ttest_ind(dataset[dataset['Theme'] == 'Dark'][\"EngagementTime\"], dataset[dataset['Theme'] == 'Light'][\"EngagementTime\"])\n",
    "\n",
    "print(\"T-Statistic for Engagement Time:\", t_value)\n",
    "print(\"P-Value for Engagement Time:\", (\"%.17f\" % p_value).rstrip('0').rstrip('.'))"
   ]
  },
  {
   "cell_type": "markdown",
   "source": [
    "# Testing Hypothesis I\n",
    "With P-Value of 0.8135998245893583 and the confidence interval of 95% we cannot reject Null Hypothesis"
   ],
   "metadata": {
    "collapsed": false
   }
  },
  {
   "cell_type": "markdown",
   "id": "b621bb888c44b6f6",
   "metadata": {
    "collapsed": false,
    "jupyter": {
     "outputs_hidden": false
    }
   },
   "source": [
    "# Testing Hypothesis II\n",
    "With P-Value of 0.00000000010373668 and the confidence interval of 95% we can reject Null Hypothesis"
   ]
  },
  {
   "cell_type": "markdown",
   "source": [
    "# Limitations\n",
    "It is essential to acknowledge the constraints that influence the scope of research study.\n",
    "Firstly, the participant pool leaned heavily towards male Information and Communication Technology (ICT) students, aged between 20 and 25, with a smaller representation from Physiotherapy students. This demographic bias could restrict the generalizability of the findings to a broader audience.\n",
    "Secondly, the study encompassed a sample size of 80 participants. While it offered some insights, a larger and more diverse sample would enhance the study's reliability and applicability.\n",
    "Additionally, this research marks the initial exploration of this particular topic. Consequently, despite rigorous methodologies, the study’s novelty might pose challenges in terms of comprehensive coverage and depth of analysis. These limitations, while significant, provide valuable pointers for future studies, encouraging a broader and more inclusive approach to understanding user preferences in interface themes."
   ],
   "metadata": {
    "collapsed": false
   }
  },
  {
   "cell_type": "markdown",
   "source": [
    "# Reflections\n",
    "This study gave a good insight into creating experiments, but I believe that in the end it took on too broad topic. It was nice to learn all of the requirements of the research study, but ultimatelly with the resources I had, I was not able to make accualy meaningful study on this topic"
   ],
   "metadata": {
    "collapsed": false
   }
  },
  {
   "cell_type": "markdown",
   "source": [
    "# Conclusion\n",
    " The study results do not yield a definitive conclusion regarding the superiority of Dark Mode or Light Mode for user satisfaction. The intricate interplay of user preferences and contexts renders a precise determination challenging. To comprehensively understand the impact of interface themes on user satisfaction within the same website, further research involving diverse user groups and scenarios is imperative."
   ],
   "metadata": {
    "collapsed": false
   }
  },
  {
   "cell_type": "markdown",
   "id": "fe9535de01abc1d7",
   "metadata": {
    "collapsed": false,
    "jupyter": {
     "outputs_hidden": false
    }
   },
   "source": [
    "# Sources\n",
    "[Z-statistics Formula: Two-sample Z-test for means](https://vitalflux.com/two-samples-z-test-for-means-formula-examples/)\n",
    "[Independent Samples Z-Test](https://www.statstest.com/independent-samples-z-test/#:~:text=The%20Independent%20Samples%20Z%2DTest,spread%20between%20your%202%20groups.)\n",
    "[T-test/Z-test decision diagram](https://vitalflux.com/wp-content/uploads/2022/01/z-test-vs-t-test.jpg)\n",
    "[T-test/Z-test](https://www.analyticsvidhya.com/blog/2020/06/statistics-analytics-hypothesis-testing-z-test-t-test/#:~:text=A.,the%20population%20variance%20is%20unknown.)\n",
    "[Khan Academy](https://www.khanacademy.org/math/statistics-probability/significance-tests-one-sample/tests-about-population-proportion/v/calculating-p-value-from-z-table)\n",
    "[Khan Academy](https://www.khanacademy.org/math/statistics-probability/significance-tests-one-sample/tests-about-population-mean/v/when-to-use-z-or-t-statistics-in-significance-tests)\n",
    "[T-tests](https://www.youtube.com/watch?v=VekJxtk4BYM)\n",
    "[Research Question](https://research.com/research/how-to-write-a-research-question#:~:text=A%20research%20question%20is%20a,answered%20in%20the%20study's%20conclusion.)\n",
    "[Quantitative Research Questions](https://www.voxco.com/blog/quantitative-survey-questions/#:~:text=Quantitative%20research%20questions%20are%20objective,that%20can%20be%20examined%20statistically.)"
   ]
  },
  {
   "cell_type": "markdown",
   "id": "9b76e4f0c0807164",
   "metadata": {
    "collapsed": false,
    "jupyter": {
     "outputs_hidden": false
    }
   },
   "source": [
    "# Simulations"
   ]
  },
  {
   "cell_type": "markdown",
   "source": [
    "# P-Hacking"
   ],
   "metadata": {
    "collapsed": false
   }
  }
 ],
 "metadata": {
  "kernelspec": {
   "display_name": "Python 3 (ipykernel)",
   "language": "python",
   "name": "python3"
  },
  "language_info": {
   "codemirror_mode": {
    "name": "ipython",
    "version": 3
   },
   "file_extension": ".py",
   "mimetype": "text/x-python",
   "name": "python",
   "nbconvert_exporter": "python",
   "pygments_lexer": "ipython3",
   "version": "3.11.2"
  }
 },
 "nbformat": 4,
 "nbformat_minor": 5
}
